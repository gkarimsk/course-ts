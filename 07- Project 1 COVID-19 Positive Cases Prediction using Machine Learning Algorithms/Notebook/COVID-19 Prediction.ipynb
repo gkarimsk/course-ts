{
 "cells": [
  {
   "cell_type": "markdown",
   "id": "f2a5512d",
   "metadata": {},
   "source": [
    "# Import dependencies"
   ]
  },
  {
   "cell_type": "code",
   "execution_count": 2,
   "id": "ef24c3cd",
   "metadata": {},
   "outputs": [],
   "source": [
    "import numpy as np\n",
    "import pandas as pd\n",
    "\n",
    "import matplotlib.pyplot as plt\n",
    "%matplotlib inline"
   ]
  },
  {
   "cell_type": "markdown",
   "id": "d4f4e241",
   "metadata": {},
   "source": [
    "# Load Dataset"
   ]
  },
  {
   "cell_type": "code",
   "execution_count": 3,
   "id": "eb83f501",
   "metadata": {},
   "outputs": [],
   "source": [
    "df=pd.read_csv('covid-19.csv')"
   ]
  },
  {
   "cell_type": "markdown",
   "id": "701e20ac",
   "metadata": {},
   "source": [
    "# Overview of Dataset"
   ]
  },
  {
   "cell_type": "code",
   "execution_count": 4,
   "id": "1f4714db",
   "metadata": {},
   "outputs": [
    {
     "data": {
      "text/html": [
       "<div>\n",
       "<style scoped>\n",
       "    .dataframe tbody tr th:only-of-type {\n",
       "        vertical-align: middle;\n",
       "    }\n",
       "\n",
       "    .dataframe tbody tr th {\n",
       "        vertical-align: top;\n",
       "    }\n",
       "\n",
       "    .dataframe thead th {\n",
       "        text-align: right;\n",
       "    }\n",
       "</style>\n",
       "<table border=\"1\" class=\"dataframe\">\n",
       "  <thead>\n",
       "    <tr style=\"text-align: right;\">\n",
       "      <th></th>\n",
       "      <th>Date</th>\n",
       "      <th>Cured</th>\n",
       "      <th>Deaths</th>\n",
       "      <th>Confirmed</th>\n",
       "    </tr>\n",
       "  </thead>\n",
       "  <tbody>\n",
       "    <tr>\n",
       "      <th>0</th>\n",
       "      <td>3/2/2020</td>\n",
       "      <td>0.0</td>\n",
       "      <td>0.0</td>\n",
       "      <td>1.0</td>\n",
       "    </tr>\n",
       "    <tr>\n",
       "      <th>1</th>\n",
       "      <td>3/3/2020</td>\n",
       "      <td>0.0</td>\n",
       "      <td>0.0</td>\n",
       "      <td>1.0</td>\n",
       "    </tr>\n",
       "    <tr>\n",
       "      <th>2</th>\n",
       "      <td>3/4/2020</td>\n",
       "      <td>0.0</td>\n",
       "      <td>0.0</td>\n",
       "      <td>1.0</td>\n",
       "    </tr>\n",
       "    <tr>\n",
       "      <th>3</th>\n",
       "      <td>3/5/2020</td>\n",
       "      <td>0.0</td>\n",
       "      <td>0.0</td>\n",
       "      <td>2.0</td>\n",
       "    </tr>\n",
       "    <tr>\n",
       "      <th>4</th>\n",
       "      <td>3/6/2020</td>\n",
       "      <td>0.0</td>\n",
       "      <td>0.0</td>\n",
       "      <td>3.0</td>\n",
       "    </tr>\n",
       "  </tbody>\n",
       "</table>\n",
       "</div>"
      ],
      "text/plain": [
       "       Date  Cured  Deaths  Confirmed\n",
       "0  3/2/2020    0.0     0.0        1.0\n",
       "1  3/3/2020    0.0     0.0        1.0\n",
       "2  3/4/2020    0.0     0.0        1.0\n",
       "3  3/5/2020    0.0     0.0        2.0\n",
       "4  3/6/2020    0.0     0.0        3.0"
      ]
     },
     "execution_count": 4,
     "metadata": {},
     "output_type": "execute_result"
    }
   ],
   "source": [
    "df.head()"
   ]
  },
  {
   "cell_type": "code",
   "execution_count": 5,
   "id": "88c9aeeb",
   "metadata": {},
   "outputs": [
    {
     "data": {
      "text/html": [
       "<div>\n",
       "<style scoped>\n",
       "    .dataframe tbody tr th:only-of-type {\n",
       "        vertical-align: middle;\n",
       "    }\n",
       "\n",
       "    .dataframe tbody tr th {\n",
       "        vertical-align: top;\n",
       "    }\n",
       "\n",
       "    .dataframe thead th {\n",
       "        text-align: right;\n",
       "    }\n",
       "</style>\n",
       "<table border=\"1\" class=\"dataframe\">\n",
       "  <thead>\n",
       "    <tr style=\"text-align: right;\">\n",
       "      <th></th>\n",
       "      <th>Date</th>\n",
       "      <th>Cured</th>\n",
       "      <th>Deaths</th>\n",
       "      <th>Confirmed</th>\n",
       "    </tr>\n",
       "  </thead>\n",
       "  <tbody>\n",
       "    <tr>\n",
       "      <th>736</th>\n",
       "      <td>3/8/2022</td>\n",
       "      <td>1423097.143</td>\n",
       "      <td>25405.00000</td>\n",
       "      <td>1448667.714</td>\n",
       "    </tr>\n",
       "    <tr>\n",
       "      <th>737</th>\n",
       "      <td>3/9/2022</td>\n",
       "      <td>1423153.714</td>\n",
       "      <td>25406.60714</td>\n",
       "      <td>1448724.214</td>\n",
       "    </tr>\n",
       "    <tr>\n",
       "      <th>738</th>\n",
       "      <td>3/10/2022</td>\n",
       "      <td>1423210.286</td>\n",
       "      <td>25408.21429</td>\n",
       "      <td>1448780.714</td>\n",
       "    </tr>\n",
       "    <tr>\n",
       "      <th>739</th>\n",
       "      <td>3/11/2022</td>\n",
       "      <td>1423266.857</td>\n",
       "      <td>25409.82143</td>\n",
       "      <td>1448837.214</td>\n",
       "    </tr>\n",
       "    <tr>\n",
       "      <th>740</th>\n",
       "      <td>3/12/2022</td>\n",
       "      <td>1423323.429</td>\n",
       "      <td>25411.42857</td>\n",
       "      <td>1448893.714</td>\n",
       "    </tr>\n",
       "  </tbody>\n",
       "</table>\n",
       "</div>"
      ],
      "text/plain": [
       "          Date        Cured       Deaths    Confirmed\n",
       "736   3/8/2022  1423097.143  25405.00000  1448667.714\n",
       "737   3/9/2022  1423153.714  25406.60714  1448724.214\n",
       "738  3/10/2022  1423210.286  25408.21429  1448780.714\n",
       "739  3/11/2022  1423266.857  25409.82143  1448837.214\n",
       "740  3/12/2022  1423323.429  25411.42857  1448893.714"
      ]
     },
     "execution_count": 5,
     "metadata": {},
     "output_type": "execute_result"
    }
   ],
   "source": [
    "df.tail()"
   ]
  },
  {
   "cell_type": "code",
   "execution_count": 6,
   "id": "1bf271c9",
   "metadata": {},
   "outputs": [
    {
     "data": {
      "text/html": [
       "<div>\n",
       "<style scoped>\n",
       "    .dataframe tbody tr th:only-of-type {\n",
       "        vertical-align: middle;\n",
       "    }\n",
       "\n",
       "    .dataframe tbody tr th {\n",
       "        vertical-align: top;\n",
       "    }\n",
       "\n",
       "    .dataframe thead th {\n",
       "        text-align: right;\n",
       "    }\n",
       "</style>\n",
       "<table border=\"1\" class=\"dataframe\">\n",
       "  <thead>\n",
       "    <tr style=\"text-align: right;\">\n",
       "      <th></th>\n",
       "      <th>Date</th>\n",
       "      <th>Cured</th>\n",
       "      <th>Deaths</th>\n",
       "      <th>Confirmed</th>\n",
       "    </tr>\n",
       "  </thead>\n",
       "  <tbody>\n",
       "    <tr>\n",
       "      <th>0</th>\n",
       "      <td>3/2/2020</td>\n",
       "      <td>0.0</td>\n",
       "      <td>0.0</td>\n",
       "      <td>1.0</td>\n",
       "    </tr>\n",
       "    <tr>\n",
       "      <th>1</th>\n",
       "      <td>3/3/2020</td>\n",
       "      <td>0.0</td>\n",
       "      <td>0.0</td>\n",
       "      <td>1.0</td>\n",
       "    </tr>\n",
       "    <tr>\n",
       "      <th>2</th>\n",
       "      <td>3/4/2020</td>\n",
       "      <td>0.0</td>\n",
       "      <td>0.0</td>\n",
       "      <td>1.0</td>\n",
       "    </tr>\n",
       "    <tr>\n",
       "      <th>3</th>\n",
       "      <td>3/5/2020</td>\n",
       "      <td>0.0</td>\n",
       "      <td>0.0</td>\n",
       "      <td>2.0</td>\n",
       "    </tr>\n",
       "    <tr>\n",
       "      <th>4</th>\n",
       "      <td>3/6/2020</td>\n",
       "      <td>0.0</td>\n",
       "      <td>0.0</td>\n",
       "      <td>3.0</td>\n",
       "    </tr>\n",
       "    <tr>\n",
       "      <th>5</th>\n",
       "      <td>3/7/2020</td>\n",
       "      <td>0.0</td>\n",
       "      <td>0.0</td>\n",
       "      <td>3.0</td>\n",
       "    </tr>\n",
       "    <tr>\n",
       "      <th>6</th>\n",
       "      <td>3/8/2020</td>\n",
       "      <td>0.0</td>\n",
       "      <td>0.0</td>\n",
       "      <td>3.0</td>\n",
       "    </tr>\n",
       "    <tr>\n",
       "      <th>7</th>\n",
       "      <td>3/9/2020</td>\n",
       "      <td>0.0</td>\n",
       "      <td>0.0</td>\n",
       "      <td>4.0</td>\n",
       "    </tr>\n",
       "    <tr>\n",
       "      <th>8</th>\n",
       "      <td>3/10/2020</td>\n",
       "      <td>0.0</td>\n",
       "      <td>0.0</td>\n",
       "      <td>4.0</td>\n",
       "    </tr>\n",
       "    <tr>\n",
       "      <th>9</th>\n",
       "      <td>3/11/2020</td>\n",
       "      <td>0.0</td>\n",
       "      <td>0.0</td>\n",
       "      <td>5.0</td>\n",
       "    </tr>\n",
       "  </tbody>\n",
       "</table>\n",
       "</div>"
      ],
      "text/plain": [
       "        Date  Cured  Deaths  Confirmed\n",
       "0   3/2/2020    0.0     0.0        1.0\n",
       "1   3/3/2020    0.0     0.0        1.0\n",
       "2   3/4/2020    0.0     0.0        1.0\n",
       "3   3/5/2020    0.0     0.0        2.0\n",
       "4   3/6/2020    0.0     0.0        3.0\n",
       "5   3/7/2020    0.0     0.0        3.0\n",
       "6   3/8/2020    0.0     0.0        3.0\n",
       "7   3/9/2020    0.0     0.0        4.0\n",
       "8  3/10/2020    0.0     0.0        4.0\n",
       "9  3/11/2020    0.0     0.0        5.0"
      ]
     },
     "execution_count": 6,
     "metadata": {},
     "output_type": "execute_result"
    }
   ],
   "source": [
    "df.head(10)"
   ]
  },
  {
   "cell_type": "code",
   "execution_count": 7,
   "id": "e77eeee6",
   "metadata": {},
   "outputs": [
    {
     "data": {
      "text/html": [
       "<div>\n",
       "<style scoped>\n",
       "    .dataframe tbody tr th:only-of-type {\n",
       "        vertical-align: middle;\n",
       "    }\n",
       "\n",
       "    .dataframe tbody tr th {\n",
       "        vertical-align: top;\n",
       "    }\n",
       "\n",
       "    .dataframe thead th {\n",
       "        text-align: right;\n",
       "    }\n",
       "</style>\n",
       "<table border=\"1\" class=\"dataframe\">\n",
       "  <thead>\n",
       "    <tr style=\"text-align: right;\">\n",
       "      <th></th>\n",
       "      <th>Date</th>\n",
       "      <th>Cured</th>\n",
       "      <th>Deaths</th>\n",
       "      <th>Confirmed</th>\n",
       "    </tr>\n",
       "  </thead>\n",
       "  <tbody>\n",
       "    <tr>\n",
       "      <th>731</th>\n",
       "      <td>3/3/2022</td>\n",
       "      <td>1422814.286</td>\n",
       "      <td>25396.96429</td>\n",
       "      <td>1448385.214</td>\n",
       "    </tr>\n",
       "    <tr>\n",
       "      <th>732</th>\n",
       "      <td>3/4/2022</td>\n",
       "      <td>1422870.857</td>\n",
       "      <td>25398.57143</td>\n",
       "      <td>1448441.714</td>\n",
       "    </tr>\n",
       "    <tr>\n",
       "      <th>733</th>\n",
       "      <td>3/5/2022</td>\n",
       "      <td>1422927.429</td>\n",
       "      <td>25400.17857</td>\n",
       "      <td>1448498.214</td>\n",
       "    </tr>\n",
       "    <tr>\n",
       "      <th>734</th>\n",
       "      <td>3/6/2022</td>\n",
       "      <td>1422984.000</td>\n",
       "      <td>25401.78571</td>\n",
       "      <td>1448554.714</td>\n",
       "    </tr>\n",
       "    <tr>\n",
       "      <th>735</th>\n",
       "      <td>3/7/2022</td>\n",
       "      <td>1423040.571</td>\n",
       "      <td>25403.39286</td>\n",
       "      <td>1448611.214</td>\n",
       "    </tr>\n",
       "    <tr>\n",
       "      <th>736</th>\n",
       "      <td>3/8/2022</td>\n",
       "      <td>1423097.143</td>\n",
       "      <td>25405.00000</td>\n",
       "      <td>1448667.714</td>\n",
       "    </tr>\n",
       "    <tr>\n",
       "      <th>737</th>\n",
       "      <td>3/9/2022</td>\n",
       "      <td>1423153.714</td>\n",
       "      <td>25406.60714</td>\n",
       "      <td>1448724.214</td>\n",
       "    </tr>\n",
       "    <tr>\n",
       "      <th>738</th>\n",
       "      <td>3/10/2022</td>\n",
       "      <td>1423210.286</td>\n",
       "      <td>25408.21429</td>\n",
       "      <td>1448780.714</td>\n",
       "    </tr>\n",
       "    <tr>\n",
       "      <th>739</th>\n",
       "      <td>3/11/2022</td>\n",
       "      <td>1423266.857</td>\n",
       "      <td>25409.82143</td>\n",
       "      <td>1448837.214</td>\n",
       "    </tr>\n",
       "    <tr>\n",
       "      <th>740</th>\n",
       "      <td>3/12/2022</td>\n",
       "      <td>1423323.429</td>\n",
       "      <td>25411.42857</td>\n",
       "      <td>1448893.714</td>\n",
       "    </tr>\n",
       "  </tbody>\n",
       "</table>\n",
       "</div>"
      ],
      "text/plain": [
       "          Date        Cured       Deaths    Confirmed\n",
       "731   3/3/2022  1422814.286  25396.96429  1448385.214\n",
       "732   3/4/2022  1422870.857  25398.57143  1448441.714\n",
       "733   3/5/2022  1422927.429  25400.17857  1448498.214\n",
       "734   3/6/2022  1422984.000  25401.78571  1448554.714\n",
       "735   3/7/2022  1423040.571  25403.39286  1448611.214\n",
       "736   3/8/2022  1423097.143  25405.00000  1448667.714\n",
       "737   3/9/2022  1423153.714  25406.60714  1448724.214\n",
       "738  3/10/2022  1423210.286  25408.21429  1448780.714\n",
       "739  3/11/2022  1423266.857  25409.82143  1448837.214\n",
       "740  3/12/2022  1423323.429  25411.42857  1448893.714"
      ]
     },
     "execution_count": 7,
     "metadata": {},
     "output_type": "execute_result"
    }
   ],
   "source": [
    "df.tail(10)"
   ]
  },
  {
   "cell_type": "code",
   "execution_count": 8,
   "id": "84b7c090",
   "metadata": {},
   "outputs": [
    {
     "name": "stdout",
     "output_type": "stream",
     "text": [
      "<class 'pandas.core.frame.DataFrame'>\n",
      "RangeIndex: 741 entries, 0 to 740\n",
      "Data columns (total 4 columns):\n",
      " #   Column     Non-Null Count  Dtype  \n",
      "---  ------     --------------  -----  \n",
      " 0   Date       741 non-null    object \n",
      " 1   Cured      741 non-null    float64\n",
      " 2   Deaths     741 non-null    float64\n",
      " 3   Confirmed  741 non-null    float64\n",
      "dtypes: float64(3), object(1)\n",
      "memory usage: 23.3+ KB\n"
     ]
    }
   ],
   "source": [
    "df.info()"
   ]
  },
  {
   "cell_type": "markdown",
   "id": "060fa762",
   "metadata": {},
   "source": [
    "# Compute the Standard Daviation, Mean, Count, Min and Max Values"
   ]
  },
  {
   "cell_type": "code",
   "execution_count": 9,
   "id": "c7424f0b",
   "metadata": {},
   "outputs": [
    {
     "data": {
      "text/html": [
       "<div>\n",
       "<style scoped>\n",
       "    .dataframe tbody tr th:only-of-type {\n",
       "        vertical-align: middle;\n",
       "    }\n",
       "\n",
       "    .dataframe tbody tr th {\n",
       "        vertical-align: top;\n",
       "    }\n",
       "\n",
       "    .dataframe thead th {\n",
       "        text-align: right;\n",
       "    }\n",
       "</style>\n",
       "<table border=\"1\" class=\"dataframe\">\n",
       "  <thead>\n",
       "    <tr style=\"text-align: right;\">\n",
       "      <th></th>\n",
       "      <th>Cured</th>\n",
       "      <th>Deaths</th>\n",
       "      <th>Confirmed</th>\n",
       "    </tr>\n",
       "  </thead>\n",
       "  <tbody>\n",
       "    <tr>\n",
       "      <th>count</th>\n",
       "      <td>7.410000e+02</td>\n",
       "      <td>741.000000</td>\n",
       "      <td>7.410000e+02</td>\n",
       "    </tr>\n",
       "    <tr>\n",
       "      <th>mean</th>\n",
       "      <td>7.763974e+05</td>\n",
       "      <td>13926.642664</td>\n",
       "      <td>8.023839e+05</td>\n",
       "    </tr>\n",
       "    <tr>\n",
       "      <th>std</th>\n",
       "      <td>5.784675e+05</td>\n",
       "      <td>9951.520111</td>\n",
       "      <td>5.849880e+05</td>\n",
       "    </tr>\n",
       "    <tr>\n",
       "      <th>min</th>\n",
       "      <td>0.000000e+00</td>\n",
       "      <td>0.000000</td>\n",
       "      <td>1.000000e+00</td>\n",
       "    </tr>\n",
       "    <tr>\n",
       "      <th>25%</th>\n",
       "      <td>1.585860e+05</td>\n",
       "      <td>4481.000000</td>\n",
       "      <td>1.795690e+05</td>\n",
       "    </tr>\n",
       "    <tr>\n",
       "      <th>50%</th>\n",
       "      <td>6.281170e+05</td>\n",
       "      <td>10919.000000</td>\n",
       "      <td>6.408150e+05</td>\n",
       "    </tr>\n",
       "    <tr>\n",
       "      <th>75%</th>\n",
       "      <td>1.412858e+06</td>\n",
       "      <td>25114.107140</td>\n",
       "      <td>1.438441e+06</td>\n",
       "    </tr>\n",
       "    <tr>\n",
       "      <th>max</th>\n",
       "      <td>1.423323e+06</td>\n",
       "      <td>25411.428570</td>\n",
       "      <td>1.448894e+06</td>\n",
       "    </tr>\n",
       "  </tbody>\n",
       "</table>\n",
       "</div>"
      ],
      "text/plain": [
       "              Cured        Deaths     Confirmed\n",
       "count  7.410000e+02    741.000000  7.410000e+02\n",
       "mean   7.763974e+05  13926.642664  8.023839e+05\n",
       "std    5.784675e+05   9951.520111  5.849880e+05\n",
       "min    0.000000e+00      0.000000  1.000000e+00\n",
       "25%    1.585860e+05   4481.000000  1.795690e+05\n",
       "50%    6.281170e+05  10919.000000  6.408150e+05\n",
       "75%    1.412858e+06  25114.107140  1.438441e+06\n",
       "max    1.423323e+06  25411.428570  1.448894e+06"
      ]
     },
     "execution_count": 9,
     "metadata": {},
     "output_type": "execute_result"
    }
   ],
   "source": [
    "df.describe()"
   ]
  },
  {
   "cell_type": "markdown",
   "id": "a4defbbe",
   "metadata": {},
   "source": [
    "# Compute the Correlation of Dataset"
   ]
  },
  {
   "cell_type": "code",
   "execution_count": 10,
   "id": "0756d549",
   "metadata": {},
   "outputs": [
    {
     "data": {
      "text/html": [
       "<div>\n",
       "<style scoped>\n",
       "    .dataframe tbody tr th:only-of-type {\n",
       "        vertical-align: middle;\n",
       "    }\n",
       "\n",
       "    .dataframe tbody tr th {\n",
       "        vertical-align: top;\n",
       "    }\n",
       "\n",
       "    .dataframe thead th {\n",
       "        text-align: right;\n",
       "    }\n",
       "</style>\n",
       "<table border=\"1\" class=\"dataframe\">\n",
       "  <thead>\n",
       "    <tr style=\"text-align: right;\">\n",
       "      <th></th>\n",
       "      <th>Cured</th>\n",
       "      <th>Deaths</th>\n",
       "      <th>Confirmed</th>\n",
       "    </tr>\n",
       "  </thead>\n",
       "  <tbody>\n",
       "    <tr>\n",
       "      <th>Cured</th>\n",
       "      <td>1.000000</td>\n",
       "      <td>0.997435</td>\n",
       "      <td>0.999476</td>\n",
       "    </tr>\n",
       "    <tr>\n",
       "      <th>Deaths</th>\n",
       "      <td>0.997435</td>\n",
       "      <td>1.000000</td>\n",
       "      <td>0.995938</td>\n",
       "    </tr>\n",
       "    <tr>\n",
       "      <th>Confirmed</th>\n",
       "      <td>0.999476</td>\n",
       "      <td>0.995938</td>\n",
       "      <td>1.000000</td>\n",
       "    </tr>\n",
       "  </tbody>\n",
       "</table>\n",
       "</div>"
      ],
      "text/plain": [
       "              Cured    Deaths  Confirmed\n",
       "Cured      1.000000  0.997435   0.999476\n",
       "Deaths     0.997435  1.000000   0.995938\n",
       "Confirmed  0.999476  0.995938   1.000000"
      ]
     },
     "execution_count": 10,
     "metadata": {},
     "output_type": "execute_result"
    }
   ],
   "source": [
    "df.select_dtypes(include=np.number).corr()"
   ]
  },
  {
   "cell_type": "markdown",
   "id": "60582b69",
   "metadata": {},
   "source": [
    "# Get the Names of Columns"
   ]
  },
  {
   "cell_type": "code",
   "execution_count": 11,
   "id": "2a9ac1ff",
   "metadata": {},
   "outputs": [
    {
     "data": {
      "text/plain": [
       "Index(['Date', 'Cured', 'Deaths', 'Confirmed'], dtype='object')"
      ]
     },
     "execution_count": 11,
     "metadata": {},
     "output_type": "execute_result"
    }
   ],
   "source": [
    "df.columns"
   ]
  },
  {
   "cell_type": "markdown",
   "id": "2a2a1a8e",
   "metadata": {},
   "source": [
    "# Observe the shape of Dataset"
   ]
  },
  {
   "cell_type": "code",
   "execution_count": 12,
   "id": "031c54a7",
   "metadata": {},
   "outputs": [
    {
     "data": {
      "text/plain": [
       "(741, 4)"
      ]
     },
     "execution_count": 12,
     "metadata": {},
     "output_type": "execute_result"
    }
   ],
   "source": [
    "df.shape"
   ]
  },
  {
   "cell_type": "markdown",
   "id": "623a427b",
   "metadata": {},
   "source": [
    "# Check for Any Null Entries"
   ]
  },
  {
   "cell_type": "code",
   "execution_count": 13,
   "id": "c6b77398",
   "metadata": {},
   "outputs": [
    {
     "data": {
      "text/plain": [
       "Date         False\n",
       "Cured        False\n",
       "Deaths       False\n",
       "Confirmed    False\n",
       "dtype: bool"
      ]
     },
     "execution_count": 13,
     "metadata": {},
     "output_type": "execute_result"
    }
   ],
   "source": [
    "df.isnull().any()"
   ]
  },
  {
   "cell_type": "code",
   "execution_count": 14,
   "id": "cc7a68e3",
   "metadata": {},
   "outputs": [
    {
     "data": {
      "text/html": [
       "<div>\n",
       "<style scoped>\n",
       "    .dataframe tbody tr th:only-of-type {\n",
       "        vertical-align: middle;\n",
       "    }\n",
       "\n",
       "    .dataframe tbody tr th {\n",
       "        vertical-align: top;\n",
       "    }\n",
       "\n",
       "    .dataframe thead th {\n",
       "        text-align: right;\n",
       "    }\n",
       "</style>\n",
       "<table border=\"1\" class=\"dataframe\">\n",
       "  <thead>\n",
       "    <tr style=\"text-align: right;\">\n",
       "      <th></th>\n",
       "      <th>Date</th>\n",
       "      <th>Cured</th>\n",
       "      <th>Deaths</th>\n",
       "      <th>Confirmed</th>\n",
       "    </tr>\n",
       "  </thead>\n",
       "  <tbody>\n",
       "    <tr>\n",
       "      <th>0</th>\n",
       "      <td>3/2/2020</td>\n",
       "      <td>0.0</td>\n",
       "      <td>0.0</td>\n",
       "      <td>1.0</td>\n",
       "    </tr>\n",
       "    <tr>\n",
       "      <th>1</th>\n",
       "      <td>3/3/2020</td>\n",
       "      <td>0.0</td>\n",
       "      <td>0.0</td>\n",
       "      <td>1.0</td>\n",
       "    </tr>\n",
       "    <tr>\n",
       "      <th>2</th>\n",
       "      <td>3/4/2020</td>\n",
       "      <td>0.0</td>\n",
       "      <td>0.0</td>\n",
       "      <td>1.0</td>\n",
       "    </tr>\n",
       "    <tr>\n",
       "      <th>3</th>\n",
       "      <td>3/5/2020</td>\n",
       "      <td>0.0</td>\n",
       "      <td>0.0</td>\n",
       "      <td>2.0</td>\n",
       "    </tr>\n",
       "    <tr>\n",
       "      <th>4</th>\n",
       "      <td>3/6/2020</td>\n",
       "      <td>0.0</td>\n",
       "      <td>0.0</td>\n",
       "      <td>3.0</td>\n",
       "    </tr>\n",
       "  </tbody>\n",
       "</table>\n",
       "</div>"
      ],
      "text/plain": [
       "       Date  Cured  Deaths  Confirmed\n",
       "0  3/2/2020    0.0     0.0        1.0\n",
       "1  3/3/2020    0.0     0.0        1.0\n",
       "2  3/4/2020    0.0     0.0        1.0\n",
       "3  3/5/2020    0.0     0.0        2.0\n",
       "4  3/6/2020    0.0     0.0        3.0"
      ]
     },
     "execution_count": 14,
     "metadata": {},
     "output_type": "execute_result"
    }
   ],
   "source": [
    "df.head()"
   ]
  },
  {
   "cell_type": "markdown",
   "id": "063185c5",
   "metadata": {},
   "source": [
    "# Set Date as Index"
   ]
  },
  {
   "cell_type": "code",
   "execution_count": 15,
   "id": "af8ee85d",
   "metadata": {},
   "outputs": [],
   "source": [
    "df.set_index('Date', inplace=True)"
   ]
  },
  {
   "cell_type": "code",
   "execution_count": 16,
   "id": "502da0d6",
   "metadata": {},
   "outputs": [
    {
     "data": {
      "text/html": [
       "<div>\n",
       "<style scoped>\n",
       "    .dataframe tbody tr th:only-of-type {\n",
       "        vertical-align: middle;\n",
       "    }\n",
       "\n",
       "    .dataframe tbody tr th {\n",
       "        vertical-align: top;\n",
       "    }\n",
       "\n",
       "    .dataframe thead th {\n",
       "        text-align: right;\n",
       "    }\n",
       "</style>\n",
       "<table border=\"1\" class=\"dataframe\">\n",
       "  <thead>\n",
       "    <tr style=\"text-align: right;\">\n",
       "      <th></th>\n",
       "      <th>Cured</th>\n",
       "      <th>Deaths</th>\n",
       "      <th>Confirmed</th>\n",
       "    </tr>\n",
       "    <tr>\n",
       "      <th>Date</th>\n",
       "      <th></th>\n",
       "      <th></th>\n",
       "      <th></th>\n",
       "    </tr>\n",
       "  </thead>\n",
       "  <tbody>\n",
       "    <tr>\n",
       "      <th>3/2/2020</th>\n",
       "      <td>0.0</td>\n",
       "      <td>0.0</td>\n",
       "      <td>1.0</td>\n",
       "    </tr>\n",
       "    <tr>\n",
       "      <th>3/3/2020</th>\n",
       "      <td>0.0</td>\n",
       "      <td>0.0</td>\n",
       "      <td>1.0</td>\n",
       "    </tr>\n",
       "    <tr>\n",
       "      <th>3/4/2020</th>\n",
       "      <td>0.0</td>\n",
       "      <td>0.0</td>\n",
       "      <td>1.0</td>\n",
       "    </tr>\n",
       "    <tr>\n",
       "      <th>3/5/2020</th>\n",
       "      <td>0.0</td>\n",
       "      <td>0.0</td>\n",
       "      <td>2.0</td>\n",
       "    </tr>\n",
       "    <tr>\n",
       "      <th>3/6/2020</th>\n",
       "      <td>0.0</td>\n",
       "      <td>0.0</td>\n",
       "      <td>3.0</td>\n",
       "    </tr>\n",
       "  </tbody>\n",
       "</table>\n",
       "</div>"
      ],
      "text/plain": [
       "          Cured  Deaths  Confirmed\n",
       "Date                              \n",
       "3/2/2020    0.0     0.0        1.0\n",
       "3/3/2020    0.0     0.0        1.0\n",
       "3/4/2020    0.0     0.0        1.0\n",
       "3/5/2020    0.0     0.0        2.0\n",
       "3/6/2020    0.0     0.0        3.0"
      ]
     },
     "execution_count": 16,
     "metadata": {},
     "output_type": "execute_result"
    }
   ],
   "source": [
    "df.head()"
   ]
  },
  {
   "cell_type": "code",
   "execution_count": 17,
   "id": "70425418",
   "metadata": {},
   "outputs": [
    {
     "data": {
      "text/html": [
       "<div>\n",
       "<style scoped>\n",
       "    .dataframe tbody tr th:only-of-type {\n",
       "        vertical-align: middle;\n",
       "    }\n",
       "\n",
       "    .dataframe tbody tr th {\n",
       "        vertical-align: top;\n",
       "    }\n",
       "\n",
       "    .dataframe thead th {\n",
       "        text-align: right;\n",
       "    }\n",
       "</style>\n",
       "<table border=\"1\" class=\"dataframe\">\n",
       "  <thead>\n",
       "    <tr style=\"text-align: right;\">\n",
       "      <th></th>\n",
       "      <th>Cured</th>\n",
       "      <th>Deaths</th>\n",
       "      <th>Confirmed</th>\n",
       "    </tr>\n",
       "    <tr>\n",
       "      <th>Date</th>\n",
       "      <th></th>\n",
       "      <th></th>\n",
       "      <th></th>\n",
       "    </tr>\n",
       "  </thead>\n",
       "  <tbody>\n",
       "    <tr>\n",
       "      <th>3/8/2022</th>\n",
       "      <td>1423097.143</td>\n",
       "      <td>25405.00000</td>\n",
       "      <td>1448667.714</td>\n",
       "    </tr>\n",
       "    <tr>\n",
       "      <th>3/9/2022</th>\n",
       "      <td>1423153.714</td>\n",
       "      <td>25406.60714</td>\n",
       "      <td>1448724.214</td>\n",
       "    </tr>\n",
       "    <tr>\n",
       "      <th>3/10/2022</th>\n",
       "      <td>1423210.286</td>\n",
       "      <td>25408.21429</td>\n",
       "      <td>1448780.714</td>\n",
       "    </tr>\n",
       "    <tr>\n",
       "      <th>3/11/2022</th>\n",
       "      <td>1423266.857</td>\n",
       "      <td>25409.82143</td>\n",
       "      <td>1448837.214</td>\n",
       "    </tr>\n",
       "    <tr>\n",
       "      <th>3/12/2022</th>\n",
       "      <td>1423323.429</td>\n",
       "      <td>25411.42857</td>\n",
       "      <td>1448893.714</td>\n",
       "    </tr>\n",
       "  </tbody>\n",
       "</table>\n",
       "</div>"
      ],
      "text/plain": [
       "                 Cured       Deaths    Confirmed\n",
       "Date                                            \n",
       "3/8/2022   1423097.143  25405.00000  1448667.714\n",
       "3/9/2022   1423153.714  25406.60714  1448724.214\n",
       "3/10/2022  1423210.286  25408.21429  1448780.714\n",
       "3/11/2022  1423266.857  25409.82143  1448837.214\n",
       "3/12/2022  1423323.429  25411.42857  1448893.714"
      ]
     },
     "execution_count": 17,
     "metadata": {},
     "output_type": "execute_result"
    }
   ],
   "source": [
    "df.tail()"
   ]
  },
  {
   "cell_type": "code",
   "execution_count": 18,
   "id": "83b773bc",
   "metadata": {},
   "outputs": [
    {
     "data": {
      "text/plain": [
       "Index(['Cured', 'Deaths', 'Confirmed'], dtype='object')"
      ]
     },
     "execution_count": 18,
     "metadata": {},
     "output_type": "execute_result"
    }
   ],
   "source": [
    "df.columns"
   ]
  },
  {
   "cell_type": "code",
   "execution_count": 19,
   "id": "563f9625",
   "metadata": {},
   "outputs": [
    {
     "data": {
      "text/plain": [
       "(741, 3)"
      ]
     },
     "execution_count": 19,
     "metadata": {},
     "output_type": "execute_result"
    }
   ],
   "source": [
    "df.shape"
   ]
  },
  {
   "cell_type": "markdown",
   "id": "d90a39a9",
   "metadata": {},
   "source": [
    "# Recheck if any null entry extist"
   ]
  },
  {
   "cell_type": "code",
   "execution_count": 20,
   "id": "3e345dbc",
   "metadata": {},
   "outputs": [
    {
     "data": {
      "text/html": [
       "<div>\n",
       "<style scoped>\n",
       "    .dataframe tbody tr th:only-of-type {\n",
       "        vertical-align: middle;\n",
       "    }\n",
       "\n",
       "    .dataframe tbody tr th {\n",
       "        vertical-align: top;\n",
       "    }\n",
       "\n",
       "    .dataframe thead th {\n",
       "        text-align: right;\n",
       "    }\n",
       "</style>\n",
       "<table border=\"1\" class=\"dataframe\">\n",
       "  <thead>\n",
       "    <tr style=\"text-align: right;\">\n",
       "      <th></th>\n",
       "      <th>Cured</th>\n",
       "      <th>Deaths</th>\n",
       "      <th>Confirmed</th>\n",
       "    </tr>\n",
       "    <tr>\n",
       "      <th>Date</th>\n",
       "      <th></th>\n",
       "      <th></th>\n",
       "      <th></th>\n",
       "    </tr>\n",
       "  </thead>\n",
       "  <tbody>\n",
       "    <tr>\n",
       "      <th>3/2/2020</th>\n",
       "      <td>False</td>\n",
       "      <td>False</td>\n",
       "      <td>False</td>\n",
       "    </tr>\n",
       "    <tr>\n",
       "      <th>3/3/2020</th>\n",
       "      <td>False</td>\n",
       "      <td>False</td>\n",
       "      <td>False</td>\n",
       "    </tr>\n",
       "    <tr>\n",
       "      <th>3/4/2020</th>\n",
       "      <td>False</td>\n",
       "      <td>False</td>\n",
       "      <td>False</td>\n",
       "    </tr>\n",
       "    <tr>\n",
       "      <th>3/5/2020</th>\n",
       "      <td>False</td>\n",
       "      <td>False</td>\n",
       "      <td>False</td>\n",
       "    </tr>\n",
       "    <tr>\n",
       "      <th>3/6/2020</th>\n",
       "      <td>False</td>\n",
       "      <td>False</td>\n",
       "      <td>False</td>\n",
       "    </tr>\n",
       "    <tr>\n",
       "      <th>...</th>\n",
       "      <td>...</td>\n",
       "      <td>...</td>\n",
       "      <td>...</td>\n",
       "    </tr>\n",
       "    <tr>\n",
       "      <th>3/8/2022</th>\n",
       "      <td>False</td>\n",
       "      <td>False</td>\n",
       "      <td>False</td>\n",
       "    </tr>\n",
       "    <tr>\n",
       "      <th>3/9/2022</th>\n",
       "      <td>False</td>\n",
       "      <td>False</td>\n",
       "      <td>False</td>\n",
       "    </tr>\n",
       "    <tr>\n",
       "      <th>3/10/2022</th>\n",
       "      <td>False</td>\n",
       "      <td>False</td>\n",
       "      <td>False</td>\n",
       "    </tr>\n",
       "    <tr>\n",
       "      <th>3/11/2022</th>\n",
       "      <td>False</td>\n",
       "      <td>False</td>\n",
       "      <td>False</td>\n",
       "    </tr>\n",
       "    <tr>\n",
       "      <th>3/12/2022</th>\n",
       "      <td>False</td>\n",
       "      <td>False</td>\n",
       "      <td>False</td>\n",
       "    </tr>\n",
       "  </tbody>\n",
       "</table>\n",
       "<p>741 rows × 3 columns</p>\n",
       "</div>"
      ],
      "text/plain": [
       "           Cured  Deaths  Confirmed\n",
       "Date                               \n",
       "3/2/2020   False   False      False\n",
       "3/3/2020   False   False      False\n",
       "3/4/2020   False   False      False\n",
       "3/5/2020   False   False      False\n",
       "3/6/2020   False   False      False\n",
       "...          ...     ...        ...\n",
       "3/8/2022   False   False      False\n",
       "3/9/2022   False   False      False\n",
       "3/10/2022  False   False      False\n",
       "3/11/2022  False   False      False\n",
       "3/12/2022  False   False      False\n",
       "\n",
       "[741 rows x 3 columns]"
      ]
     },
     "execution_count": 20,
     "metadata": {},
     "output_type": "execute_result"
    }
   ],
   "source": [
    "df.isnull()"
   ]
  },
  {
   "cell_type": "code",
   "execution_count": 21,
   "id": "aeee1fa3",
   "metadata": {},
   "outputs": [
    {
     "data": {
      "text/plain": [
       "Cured        False\n",
       "Deaths       False\n",
       "Confirmed    False\n",
       "dtype: bool"
      ]
     },
     "execution_count": 21,
     "metadata": {},
     "output_type": "execute_result"
    }
   ],
   "source": [
    "df.isnull().any()"
   ]
  },
  {
   "cell_type": "markdown",
   "id": "98177eac",
   "metadata": {},
   "source": [
    "# Visualize the Data Set Columns"
   ]
  },
  {
   "cell_type": "code",
   "execution_count": 22,
   "id": "32ad9fa4",
   "metadata": {},
   "outputs": [
    {
     "data": {
      "text/plain": [
       "[<matplotlib.lines.Line2D at 0x15edddfb670>]"
      ]
     },
     "execution_count": 22,
     "metadata": {},
     "output_type": "execute_result"
    },
    {
     "data": {
      "image/png": "[encoded data removed]",
      "text/plain": [
       "<Figure size 2400x800 with 1 Axes>"
      ]
     },
     "metadata": {},
     "output_type": "display_data"
    }
   ],
   "source": [
    "plt.figure(num=None, figsize=(30,10), dpi=80, facecolor='w', edgecolor='k')\n",
    "plt.title('Confirmed', fontsize=30)\n",
    "plt.plot(df.Confirmed)"
   ]
  },
  {
   "cell_type": "code",
   "execution_count": 23,
   "id": "5e7aae13",
   "metadata": {},
   "outputs": [
    {
     "data": {
      "text/plain": [
       "[<matplotlib.lines.Line2D at 0x15ef96781f0>]"
      ]
     },
     "execution_count": 23,
     "metadata": {},
     "output_type": "execute_result"
    },
    {
     "data": {
      "image/png": "[encoded data removed]",
      "text/plain": [
       "<Figure size 2400x800 with 1 Axes>"
      ]
     },
     "metadata": {},
     "output_type": "display_data"
    }
   ],
   "source": [
    "plt.figure(num=None, figsize=(30,10), dpi=80, facecolor='w', edgecolor='k')\n",
    "plt.title('Deaths', fontsize=30)\n",
    "plt.plot(df.Deaths)"
   ]
  },
  {
   "cell_type": "markdown",
   "id": "9872b1fb",
   "metadata": {},
   "source": [
    "# Visualize the Relation of Dataset"
   ]
  },
  {
   "cell_type": "code",
   "execution_count": 24,
   "id": "291d31f1",
   "metadata": {},
   "outputs": [
    {
     "data": {
      "image/png": "[encoded data removed]",
      "text/plain": [
       "<Figure size 1400x800 with 1 Axes>"
      ]
     },
     "metadata": {},
     "output_type": "display_data"
    }
   ],
   "source": [
    "df.plot(kind='line',figsize=(14,8))\n",
    "\n",
    "\n",
    "plt.title('No of Covid Cases')\n",
    "plt.ylabel('Positive Number')\n",
    "plt.xlabel('Years')\n",
    "plt.show()"
   ]
  },
  {
   "cell_type": "code",
   "execution_count": null,
   "id": "f1bd0847",
   "metadata": {},
   "outputs": [],
   "source": []
  },
  {
   "cell_type": "code",
   "execution_count": null,
   "id": "dac3e34c",
   "metadata": {},
   "outputs": [],
   "source": []
  },
  {
   "cell_type": "code",
   "execution_count": null,
   "id": "6ce8ee4d",
   "metadata": {},
   "outputs": [],
   "source": []
  },
  {
   "cell_type": "markdown",
   "id": "3c44dbae",
   "metadata": {},
   "source": [
    "# Practice Area Plot on Dataset"
   ]
  },
  {
   "cell_type": "code",
   "execution_count": null,
   "id": "44b32915",
   "metadata": {},
   "outputs": [],
   "source": [
    "df.plot(kind='area', stacked=False, figsize=(20,10))\n",
    "\n",
    "plt.title('No of Covid cases')\n",
    "plt.ylabel('No of Positive Cases')\n",
    "plt.xlabel('Date')\n",
    "\n",
    "plt.show()"
   ]
  },
  {
   "cell_type": "code",
   "execution_count": null,
   "id": "4e1d7669",
   "metadata": {},
   "outputs": [],
   "source": [
    "df.columns"
   ]
  },
  {
   "cell_type": "code",
   "execution_count": null,
   "id": "6ce9f5bf",
   "metadata": {},
   "outputs": [],
   "source": [
    "df.plot(kind='area', stacked=False, figsize=(20,10), color=['b','k','g'])\n",
    "\n",
    "plt.title('No of Covid cases')\n",
    "plt.ylabel('No of Positive Cases')\n",
    "plt.xlabel('Date')\n",
    "\n",
    "plt.show()"
   ]
  },
  {
   "cell_type": "code",
   "execution_count": null,
   "id": "32dc017c",
   "metadata": {},
   "outputs": [],
   "source": []
  },
  {
   "cell_type": "code",
   "execution_count": null,
   "id": "69eb0e15",
   "metadata": {},
   "outputs": [],
   "source": []
  },
  {
   "cell_type": "markdown",
   "id": "14508e34",
   "metadata": {},
   "source": [
    "# Plot  AutoCorrelation, Mean over time and Standard Deviation"
   ]
  },
  {
   "cell_type": "code",
   "execution_count": null,
   "id": "67f1590a",
   "metadata": {},
   "outputs": [],
   "source": [
    "from statsmodels.graphics.tsaplots import plot_acf, plot_pacf"
   ]
  },
  {
   "cell_type": "code",
   "execution_count": null,
   "id": "169c5c77",
   "metadata": {},
   "outputs": [],
   "source": [
    "fig= plt.figure(figsize=(12,7))\n",
    "layout=(2,2)\n",
    "\n",
    "hist_ax=plt.subplot2grid(layout,(0,0))\n",
    "ac_ax=plt.subplot2grid(layout,(1,0))\n",
    "hist_std_ax=plt.subplot2grid(layout,(0,1))\n",
    "mean_ax=plt.subplot2grid(layout,(1,1))\n",
    "\n",
    "df.Confirmed.hist(ax=hist_ax)\n",
    "hist_ax.set_title(\"Original Histogram\")\n",
    "\n",
    "series=df.Confirmed[:365]\n",
    "plot_acf(series, lags=30,ax=ac_ax)\n",
    "ac_ax.set_title(\"Autocorrelation\")\n",
    "\n",
    "mm=df.Confirmed.rolling(7).std()\n",
    "mm.hist(ax=hist_std_ax)\n",
    "hist_std_ax.set_title(\"Standard Deviation\")\n",
    "\n",
    "mm=df.Confirmed.rolling(30).mean()\n",
    "mm.plot(ax=mean_ax)\n",
    "mean_ax.set_title(\"Mean Over Time\")"
   ]
  },
  {
   "cell_type": "code",
   "execution_count": null,
   "id": "be4dcc5f",
   "metadata": {},
   "outputs": [],
   "source": []
  },
  {
   "cell_type": "code",
   "execution_count": null,
   "id": "d35e6284",
   "metadata": {},
   "outputs": [],
   "source": []
  },
  {
   "cell_type": "code",
   "execution_count": null,
   "id": "750be6c6",
   "metadata": {},
   "outputs": [],
   "source": []
  },
  {
   "cell_type": "code",
   "execution_count": null,
   "id": "e2b0478d",
   "metadata": {},
   "outputs": [],
   "source": []
  },
  {
   "cell_type": "code",
   "execution_count": null,
   "id": "d13d404d",
   "metadata": {},
   "outputs": [],
   "source": []
  },
  {
   "cell_type": "markdown",
   "id": "6bf8fbd7",
   "metadata": {},
   "source": [
    "# Stationarity Check"
   ]
  },
  {
   "cell_type": "code",
   "execution_count": null,
   "id": "5e7cc9be",
   "metadata": {},
   "outputs": [],
   "source": [
    "from statsmodels.tsa.stattools import adfuller"
   ]
  },
  {
   "cell_type": "code",
   "execution_count": null,
   "id": "1c6c664d",
   "metadata": {},
   "outputs": [],
   "source": [
    "X=df.Confirmed.values"
   ]
  },
  {
   "cell_type": "code",
   "execution_count": null,
   "id": "be5b70af",
   "metadata": {},
   "outputs": [],
   "source": [
    "result=adfuller(X)"
   ]
  },
  {
   "cell_type": "code",
   "execution_count": null,
   "id": "de06687a",
   "metadata": {},
   "outputs": [],
   "source": [
    "print('ADF Statistics:%f'% result[0])\n",
    "print('p-value:%f' % result[1])\n",
    "print('Critical Values')\n",
    "for key, value in result[4].items():\n",
    "    print('\\t%s: %.3f'%(key,value))"
   ]
  },
  {
   "cell_type": "code",
   "execution_count": null,
   "id": "087d313a",
   "metadata": {},
   "outputs": [],
   "source": [
    "df_log=np.sqrt(df['Confirmed'])\n",
    "df_diff = df_log.diff().fillna(0)"
   ]
  },
  {
   "cell_type": "code",
   "execution_count": null,
   "id": "6385af10",
   "metadata": {},
   "outputs": [],
   "source": [
    "df['Confirmed']=df_diff"
   ]
  },
  {
   "cell_type": "code",
   "execution_count": null,
   "id": "5af43b7e",
   "metadata": {},
   "outputs": [],
   "source": [
    "X=df.Confirmed.values\n",
    "result=adfuller(X)\n",
    "print('ADF Statistics:%f'% result[0])\n",
    "print('p-value:%f' % result[1])\n",
    "print('Critical Values')\n",
    "for key, value in result[4].items():\n",
    "    print('\\t%s: %.3f'%(key,value))"
   ]
  },
  {
   "cell_type": "code",
   "execution_count": null,
   "id": "a60f9fc1",
   "metadata": {},
   "outputs": [],
   "source": []
  },
  {
   "cell_type": "code",
   "execution_count": null,
   "id": "ba0ae284",
   "metadata": {},
   "outputs": [],
   "source": []
  },
  {
   "cell_type": "code",
   "execution_count": null,
   "id": "8f11fd59",
   "metadata": {},
   "outputs": [],
   "source": []
  },
  {
   "cell_type": "code",
   "execution_count": null,
   "id": "059490d6",
   "metadata": {},
   "outputs": [],
   "source": []
  },
  {
   "cell_type": "markdown",
   "id": "b0e1ee18",
   "metadata": {},
   "source": [
    "# Apply Machine Learning Models for Forecasting"
   ]
  },
  {
   "cell_type": "markdown",
   "id": "99f601d5",
   "metadata": {},
   "source": [
    "# 1-ARIMA Model"
   ]
  },
  {
   "cell_type": "code",
   "execution_count": null,
   "id": "82fa2982",
   "metadata": {},
   "outputs": [],
   "source": [
    "from statsmodels.tsa.arima.model import ARIMA"
   ]
  },
  {
   "cell_type": "code",
   "execution_count": null,
   "id": "16bea227",
   "metadata": {},
   "outputs": [],
   "source": [
    "df"
   ]
  },
  {
   "cell_type": "code",
   "execution_count": null,
   "id": "3213a9b4",
   "metadata": {},
   "outputs": [],
   "source": [
    "df.index=pd.DatetimeIndex(df.index)"
   ]
  },
  {
   "cell_type": "code",
   "execution_count": null,
   "id": "94c670c2",
   "metadata": {},
   "outputs": [],
   "source": [
    "df"
   ]
  },
  {
   "cell_type": "code",
   "execution_count": null,
   "id": "dc099eb7",
   "metadata": {},
   "outputs": [],
   "source": [
    "model=ARIMA(df['Confirmed'],order=(1,1,1))\n",
    "model_fit=model.fit()"
   ]
  },
  {
   "cell_type": "code",
   "execution_count": null,
   "id": "88a628d1",
   "metadata": {},
   "outputs": [],
   "source": [
    "model_fit.summary()"
   ]
  },
  {
   "cell_type": "code",
   "execution_count": null,
   "id": "7eefb60a",
   "metadata": {},
   "outputs": [],
   "source": [
    "df=df[~df.index.duplicated()]"
   ]
  },
  {
   "cell_type": "code",
   "execution_count": null,
   "id": "189ca514",
   "metadata": {},
   "outputs": [],
   "source": [
    "df"
   ]
  },
  {
   "cell_type": "code",
   "execution_count": null,
   "id": "bfca623c",
   "metadata": {},
   "outputs": [],
   "source": [
    "df['forecast']=model_fit.predict(start=510,end=760, dynamic=True)\n",
    "df[['Confirmed','forecast']].plot(figsize=(12,8))"
   ]
  },
  {
   "cell_type": "code",
   "execution_count": null,
   "id": "ec8b52a3",
   "metadata": {},
   "outputs": [],
   "source": []
  },
  {
   "cell_type": "code",
   "execution_count": null,
   "id": "46b34e18",
   "metadata": {},
   "outputs": [],
   "source": []
  },
  {
   "cell_type": "code",
   "execution_count": null,
   "id": "54af7f7b",
   "metadata": {},
   "outputs": [],
   "source": []
  },
  {
   "cell_type": "code",
   "execution_count": null,
   "id": "4eab8a79",
   "metadata": {},
   "outputs": [],
   "source": []
  },
  {
   "cell_type": "markdown",
   "id": "1d147565",
   "metadata": {},
   "source": [
    "# 2-SARIMA Model"
   ]
  },
  {
   "cell_type": "code",
   "execution_count": null,
   "id": "a3794566",
   "metadata": {},
   "outputs": [],
   "source": [
    "import statsmodels.api as sm"
   ]
  },
  {
   "cell_type": "code",
   "execution_count": null,
   "id": "1b6c597b",
   "metadata": {},
   "outputs": [],
   "source": [
    "model=sm.tsa.statespace.SARIMAX(df['Confirmed'],order=(1,1,1),seasonal_order=(1,1,1,24))"
   ]
  },
  {
   "cell_type": "code",
   "execution_count": null,
   "id": "f8a7ae87",
   "metadata": {},
   "outputs": [],
   "source": [
    "results=model.fit()"
   ]
  },
  {
   "cell_type": "code",
   "execution_count": null,
   "id": "39df41b8",
   "metadata": {},
   "outputs": [],
   "source": [
    "results.summary()"
   ]
  },
  {
   "cell_type": "code",
   "execution_count": null,
   "id": "ed69e580",
   "metadata": {},
   "outputs": [],
   "source": [
    "df['forecast']=results.predict(start=510,end=760,dynamic=True)\n",
    "df[['Confirmed','forecast']].plot(figsize=(12,8))"
   ]
  },
  {
   "cell_type": "code",
   "execution_count": null,
   "id": "c0fb5e8a",
   "metadata": {},
   "outputs": [],
   "source": [
    "from pandas.tseries.offsets import DateOffset\n",
    "future_dates=[df.index[-1]+DateOffset(months=x)for x in range(0,24)]"
   ]
  },
  {
   "cell_type": "code",
   "execution_count": null,
   "id": "94fb0d49",
   "metadata": {},
   "outputs": [],
   "source": [
    "future_datest_df=pd.DataFrame(index=future_dates[1:],columns=df.columns)"
   ]
  },
  {
   "cell_type": "code",
   "execution_count": null,
   "id": "fe94a587",
   "metadata": {},
   "outputs": [],
   "source": [
    "future_df=pd.concat([df,future_datest_df])"
   ]
  },
  {
   "cell_type": "code",
   "execution_count": null,
   "id": "e9c7920b",
   "metadata": {},
   "outputs": [],
   "source": [
    "future_df['forecast']=results.predict(start=510,end=760,dynamic=True)\n",
    "future_df[['Confirmed','forecast']].plot(figsize=(12,8))"
   ]
  },
  {
   "cell_type": "code",
   "execution_count": null,
   "id": "46b89217",
   "metadata": {},
   "outputs": [],
   "source": []
  },
  {
   "cell_type": "markdown",
   "id": "1465ba3b",
   "metadata": {},
   "source": [
    "# 3- Variations in SARIMA"
   ]
  },
  {
   "cell_type": "code",
   "execution_count": null,
   "id": "589e7079",
   "metadata": {},
   "outputs": [],
   "source": []
  }
 ],
 "metadata": {
  "kernelspec": {
   "display_name": "Python 3 (ipykernel)",
   "language": "python",
   "name": "python3"
  },
  "language_info": {
   "codemirror_mode": {
    "name": "ipython",
    "version": 3
   },
   "file_extension": ".py",
   "mimetype": "text/x-python",
   "name": "python",
   "nbconvert_exporter": "python",
   "pygments_lexer": "ipython3",
   "version": "3.8.19"
  }
 },
 "nbformat": 4,
 "nbformat_minor": 5
}
